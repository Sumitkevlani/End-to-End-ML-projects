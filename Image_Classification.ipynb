{
  "nbformat": 4,
  "nbformat_minor": 0,
  "metadata": {
    "colab": {
      "provenance": [],
      "authorship_tag": "ABX9TyNA8syLlnqvhgdC8kV2Kea2",
      "include_colab_link": true
    },
    "kernelspec": {
      "name": "python3",
      "display_name": "Python 3"
    },
    "language_info": {
      "name": "python"
    }
  },
  "cells": [
    {
      "cell_type": "markdown",
      "metadata": {
        "id": "view-in-github",
        "colab_type": "text"
      },
      "source": [
        "<a href=\"https://colab.research.google.com/github/Sumitkevlani/End-to-End-ML-projects/blob/main/Image_Classification.ipynb\" target=\"_parent\"><img src=\"https://colab.research.google.com/assets/colab-badge.svg\" alt=\"Open In Colab\"/></a>"
      ]
    },
    {
      "cell_type": "code",
      "execution_count": 1,
      "metadata": {
        "id": "RWaxIC9WwRAJ"
      },
      "outputs": [],
      "source": [
        "import tensorflow as tf\n",
        "from tensorflow.keras import datasets,layers,models\n",
        "import matplotlib.pyplot as plt\n",
        "import numpy as np"
      ]
    },
    {
      "cell_type": "code",
      "source": [
        "(X_train,Y_train),(X_test,Y_test) = datasets.cifar10.load_data()"
      ],
      "metadata": {
        "id": "V4pJZTHUw6E0"
      },
      "execution_count": 3,
      "outputs": []
    },
    {
      "cell_type": "code",
      "source": [
        "print(X_train.shape)\n",
        "#a total of 50000 images of 32x32 each with 3 values per pixel(R,G,B)"
      ],
      "metadata": {
        "colab": {
          "base_uri": "https://localhost:8080/"
        },
        "id": "JIrFWLElxLve",
        "outputId": "f2f41204-dafa-41e7-b475-6742b5f07921"
      },
      "execution_count": 5,
      "outputs": [
        {
          "output_type": "stream",
          "name": "stdout",
          "text": [
            "(50000, 32, 32, 3)\n"
          ]
        }
      ]
    },
    {
      "cell_type": "code",
      "source": [
        "print(X_test.shape)"
      ],
      "metadata": {
        "colab": {
          "base_uri": "https://localhost:8080/"
        },
        "id": "92i5mH0xxZqR",
        "outputId": "3a20d64b-29d6-4ad8-ed72-b5ccd90b626f"
      },
      "execution_count": 6,
      "outputs": [
        {
          "output_type": "stream",
          "name": "stdout",
          "text": [
            "(10000, 32, 32, 3)\n"
          ]
        }
      ]
    },
    {
      "cell_type": "markdown",
      "source": [
        "Reshaping a numpy array\n",
        "\n",
        "(10000,1) => (10000)\n",
        "\n",
        "flattening the list to one-dimensional\n",
        "\n",
        "so if we don't want to change the dimension then use -1\n",
        "\n",
        "if we want to remove some dimension then leave that position blank\n",
        "\n",
        "use np.reshape(-1,)"
      ],
      "metadata": {
        "id": "J-al2CaY0pw7"
      }
    },
    {
      "cell_type": "code",
      "source": [
        "Y_train = Y_train.reshape(-1,)\n",
        "print(Y_train)"
      ],
      "metadata": {
        "colab": {
          "base_uri": "https://localhost:8080/"
        },
        "id": "AKrgDUHFz_O7",
        "outputId": "897cade7-b737-4b58-8fb0-e90b9b85a4d2"
      },
      "execution_count": 20,
      "outputs": [
        {
          "output_type": "stream",
          "name": "stdout",
          "text": [
            "[6 9 9 ... 9 1 1]\n"
          ]
        }
      ]
    },
    {
      "cell_type": "code",
      "source": [
        "Y_test = Y_test.reshape(-1,)\n",
        "print(Y_test)"
      ],
      "metadata": {
        "colab": {
          "base_uri": "https://localhost:8080/"
        },
        "id": "Syur2E4p06yI",
        "outputId": "7b7ab016-078a-4255-9c2f-3b0a8703b186"
      },
      "execution_count": 21,
      "outputs": [
        {
          "output_type": "stream",
          "name": "stdout",
          "text": [
            "[3 8 8 ... 5 1 7]\n"
          ]
        }
      ]
    },
    {
      "cell_type": "code",
      "source": [
        "#plt.imshow is used to show the image\n",
        "#plt.figure is setting the size of the dataset\n",
        "def plot_sample(X,Y,index):\n",
        "  classes = ['airplane','automobile','bird','cat','deer','dog','frog','horse','ship','truck']\n",
        "  plt.figure(figsize=(3,3))\n",
        "  plt.imshow(X[index])\n",
        "  plt.xlabel(classes[Y[index]])\n",
        "  plt.show()"
      ],
      "metadata": {
        "id": "5Vl52djKx-k7"
      },
      "execution_count": 23,
      "outputs": []
    },
    {
      "cell_type": "code",
      "source": [
        "plot_sample(X_train,Y_train,1)"
      ],
      "metadata": {
        "colab": {
          "base_uri": "https://localhost:8080/",
          "height": 313
        },
        "id": "3_dgrT8TyE9U",
        "outputId": "0dd25265-4da9-46b6-e10c-d4b41311a5dd"
      },
      "execution_count": 24,
      "outputs": [
        {
          "output_type": "display_data",
          "data": {
            "text/plain": [
              "<Figure size 300x300 with 1 Axes>"
            ],
            "image/png": "[encoded data removed]"
          },
          "metadata": {}
        }
      ]
    },
    {
      "cell_type": "markdown",
      "source": [
        "#Scaling the train and test data"
      ],
      "metadata": {
        "id": "G523DzXZ3LH2"
      }
    },
    {
      "cell_type": "code",
      "source": [
        "X_train = X_train/255\n",
        "X_test = X_test/255"
      ],
      "metadata": {
        "id": "XMyqjxJjy92h"
      },
      "execution_count": 25,
      "outputs": []
    },
    {
      "cell_type": "markdown",
      "source": [
        "#Training the model using Artificial Neural Networks\n",
        "\n",
        "The loss specified here is sparse_categorical_lossentropy there is one more type of loss that is categorical_lossentropy.\n",
        "\n",
        "The difference is that when we use one-hot encoding for classification or qualitative data like for 3 classes we use [1,0,0] or [0,1,0] or [0,0,1] then in that case we use categorical_lossentropy.\n",
        "\n",
        "but when we use sparse values like 0,1,2,3,4,5,6,etc. then in that case we use sparse_categorical_lossentropy."
      ],
      "metadata": {
        "id": "QMNNDF5P3OU0"
      }
    },
    {
      "cell_type": "code",
      "source": [
        "  ann = tf.keras.Sequential([\n",
        "    layers.Flatten(input_shape=(32,32,3)),\n",
        "    layers.Dense(3000,activation='relu'),\n",
        "    layers.Dense(3000,activation='relu'),\n",
        "    layers.Dense(10,activation='sigmoid')\n",
        "])\n",
        "\n",
        "ann.compile(optimizer='SGD',loss='sparse_categorical_crossentropy',metrics=['accuracy'])\n",
        "\n",
        "ann.fit(X_train,Y_train,epochs=5,verbose=1)"
      ],
      "metadata": {
        "colab": {
          "base_uri": "https://localhost:8080/"
        },
        "id": "mw48vnjk3VgQ",
        "outputId": "1cc6d35f-c753-478e-aebb-3cfc2ddb0d69"
      },
      "execution_count": 28,
      "outputs": [
        {
          "output_type": "stream",
          "name": "stdout",
          "text": [
            "Epoch 1/5\n",
            "1563/1563 [==============================] - 268s 171ms/step - loss: 1.8084 - accuracy: 0.3582\n",
            "Epoch 2/5\n",
            "1563/1563 [==============================] - 253s 162ms/step - loss: 1.6219 - accuracy: 0.4281\n",
            "Epoch 3/5\n",
            "1563/1563 [==============================] - 269s 172ms/step - loss: 1.5415 - accuracy: 0.4575\n",
            "Epoch 4/5\n",
            "1563/1563 [==============================] - 257s 165ms/step - loss: 1.4788 - accuracy: 0.4808\n",
            "Epoch 5/5\n",
            "1563/1563 [==============================] - 263s 168ms/step - loss: 1.4296 - accuracy: 0.4987\n"
          ]
        },
        {
          "output_type": "execute_result",
          "data": {
            "text/plain": [
              "<keras.src.callbacks.History at 0x7a1594e5b0a0>"
            ]
          },
          "metadata": {},
          "execution_count": 28
        }
      ]
    },
    {
      "cell_type": "code",
      "source": [
        "ann.evaluate(X_test,Y_test)"
      ],
      "metadata": {
        "colab": {
          "base_uri": "https://localhost:8080/"
        },
        "id": "DHWe962A4R0a",
        "outputId": "b2803c69-b3c6-4535-a3ba-d3d8b072dab5"
      },
      "execution_count": 29,
      "outputs": [
        {
          "output_type": "stream",
          "name": "stdout",
          "text": [
            "313/313 [==============================] - 13s 42ms/step - loss: 1.4413 - accuracy: 0.4898\n"
          ]
        },
        {
          "output_type": "execute_result",
          "data": {
            "text/plain": [
              "[1.4413176774978638, 0.48980000615119934]"
            ]
          },
          "metadata": {},
          "execution_count": 29
        }
      ]
    },
    {
      "cell_type": "code",
      "source": [
        "Y_pred = ann.predict(X_test)\n",
        "print(Y_pred)"
      ],
      "metadata": {
        "colab": {
          "base_uri": "https://localhost:8080/"
        },
        "id": "AIqVf7-7_Obm",
        "outputId": "4eb3f49d-3d74-4fe8-c771-ef4c4cd9d7a8"
      },
      "execution_count": 33,
      "outputs": [
        {
          "output_type": "stream",
          "name": "stdout",
          "text": [
            "313/313 [==============================] - 15s 48ms/step\n",
            "[[0.4459763  0.42102832 0.67885214 ... 0.05717368 0.64023536 0.08040576]\n",
            " [0.8080432  0.8621236  0.3297646  ... 0.13022286 0.93107    0.96582365]\n",
            " [0.956137   0.71651167 0.29441687 ... 0.2795043  0.9832086  0.8184461 ]\n",
            " ...\n",
            " [0.08603691 0.04235652 0.84846306 ... 0.5329055  0.21329059 0.10469425]\n",
            " [0.31003302 0.22079664 0.7581691  ... 0.3214956  0.10064917 0.18051685]\n",
            " [0.5754588  0.13345551 0.60470957 ... 0.8953375  0.20285015 0.26007813]]\n"
          ]
        }
      ]
    },
    {
      "cell_type": "code",
      "source": [
        "print(Y_pred.shape)"
      ],
      "metadata": {
        "colab": {
          "base_uri": "https://localhost:8080/"
        },
        "id": "GdrqLY2-AjpK",
        "outputId": "201646bf-f5a7-41d1-c9e1-d8b491c32815"
      },
      "execution_count": 34,
      "outputs": [
        {
          "output_type": "stream",
          "name": "stdout",
          "text": [
            "(10000, 10)\n"
          ]
        }
      ]
    },
    {
      "cell_type": "code",
      "source": [
        "Y_pred_classes = [np.argmax(element) for element in Y_pred]"
      ],
      "metadata": {
        "id": "uyScFMUr_gUQ"
      },
      "execution_count": 36,
      "outputs": []
    },
    {
      "cell_type": "code",
      "source": [
        "from sklearn.metrics import classification_report\n",
        "classification_report(Y_test,Y_pred_classes)"
      ],
      "metadata": {
        "colab": {
          "base_uri": "https://localhost:8080/",
          "height": 105
        },
        "id": "J2yN13tO_CX1",
        "outputId": "2ba331bd-9eaa-4216-d25e-4011bf4bb5c2"
      },
      "execution_count": 37,
      "outputs": [
        {
          "output_type": "execute_result",
          "data": {
            "text/plain": [
              "'              precision    recall  f1-score   support\\n\\n           0       0.48      0.64      0.55      1000\\n           1       0.68      0.48      0.56      1000\\n           2       0.43      0.28      0.34      1000\\n           3       0.38      0.34      0.36      1000\\n           4       0.42      0.41      0.42      1000\\n           5       0.51      0.24      0.32      1000\\n           6       0.41      0.76      0.53      1000\\n           7       0.56      0.54      0.55      1000\\n           8       0.58      0.65      0.61      1000\\n           9       0.55      0.56      0.56      1000\\n\\n    accuracy                           0.49     10000\\n   macro avg       0.50      0.49      0.48     10000\\nweighted avg       0.50      0.49      0.48     10000\\n'"
            ],
            "application/vnd.google.colaboratory.intrinsic+json": {
              "type": "string"
            }
          },
          "metadata": {},
          "execution_count": 37
        }
      ]
    },
    {
      "cell_type": "markdown",
      "source": [
        "Using ANNs, we are getting the accuracy of 49.87% on training data and 48.98% on test data.\n",
        "\n",
        "So, we are moving to use CNNs."
      ],
      "metadata": {
        "id": "jwJVof5W-wki"
      }
    },
    {
      "cell_type": "markdown",
      "source": [
        "Difference Between Sigmoid and SoftMax Activation Functions\n",
        "\n",
        "If we have classes and their outputs are:\n",
        "\n",
        "0.45,0.67\n",
        "\n",
        "then Sigmoid will return them as it is\n",
        "\n",
        "where as Softmax will do 0.45/(0.45+0.67) and 0.67/(0.45+0.67) respectively"
      ],
      "metadata": {
        "id": "D2M1KWktCCe_"
      }
    },
    {
      "cell_type": "code",
      "source": [
        "#Creating CNN model\n",
        "cnn = models.Sequential([\n",
        "\n",
        "    #cnns\n",
        "    layers.Conv2D(filters=32,kernel_size=(3,3),activation='relu',input_shape=(32,32,3)),\n",
        "    layers.MaxPooling2D(),\n",
        "\n",
        "    #cnns\n",
        "    layers.Conv2D(filters=64,kernel_size=(3,3),activation='relu',input_shape=(32,32,3)),\n",
        "    layers.MaxPooling2D(),\n",
        "\n",
        "    layers.Flatten(),\n",
        "    layers.Dense(64,activation='relu'),\n",
        "    layers.Dense(10,activation='softmax')\n",
        "])"
      ],
      "metadata": {
        "id": "3CABSyyxBb9Z"
      },
      "execution_count": 42,
      "outputs": []
    },
    {
      "cell_type": "code",
      "source": [
        "cnn.compile(optimizer='adam',loss='sparse_categorical_crossentropy',metrics=['accuracy'])\n",
        "cnn.fit(X_train,Y_train,epochs=10,verbose=1)"
      ],
      "metadata": {
        "colab": {
          "base_uri": "https://localhost:8080/"
        },
        "id": "wjYO3BBXCbKV",
        "outputId": "ae3b84df-cd51-4196-b726-ea02ec663fa2"
      },
      "execution_count": 43,
      "outputs": [
        {
          "output_type": "stream",
          "name": "stdout",
          "text": [
            "Epoch 1/10\n",
            "1563/1563 [==============================] - 104s 65ms/step - loss: 1.4739 - accuracy: 0.4693\n",
            "Epoch 2/10\n",
            "1563/1563 [==============================] - 61s 39ms/step - loss: 1.1339 - accuracy: 0.6028\n",
            "Epoch 3/10\n",
            "1563/1563 [==============================] - 66s 42ms/step - loss: 0.9960 - accuracy: 0.6532\n",
            "Epoch 4/10\n",
            "1563/1563 [==============================] - 62s 40ms/step - loss: 0.9076 - accuracy: 0.6824\n",
            "Epoch 5/10\n",
            "1563/1563 [==============================] - 63s 40ms/step - loss: 0.8424 - accuracy: 0.7063\n",
            "Epoch 6/10\n",
            "1563/1563 [==============================] - 61s 39ms/step - loss: 0.7833 - accuracy: 0.7280\n",
            "Epoch 7/10\n",
            "1563/1563 [==============================] - 62s 39ms/step - loss: 0.7369 - accuracy: 0.7418\n",
            "Epoch 8/10\n",
            "1563/1563 [==============================] - 61s 39ms/step - loss: 0.6909 - accuracy: 0.7589\n",
            "Epoch 9/10\n",
            "1563/1563 [==============================] - 62s 40ms/step - loss: 0.6457 - accuracy: 0.7739\n",
            "Epoch 10/10\n",
            "1563/1563 [==============================] - 61s 39ms/step - loss: 0.6041 - accuracy: 0.7902\n"
          ]
        },
        {
          "output_type": "execute_result",
          "data": {
            "text/plain": [
              "<keras.src.callbacks.History at 0x7a1594e5aaa0>"
            ]
          },
          "metadata": {},
          "execution_count": 43
        }
      ]
    },
    {
      "cell_type": "code",
      "source": [
        "cnn.evaluate(X_test,Y_test)"
      ],
      "metadata": {
        "colab": {
          "base_uri": "https://localhost:8080/"
        },
        "id": "MtC_PHJSD0xV",
        "outputId": "5158b99d-8134-47f3-cecc-e63936b38414"
      },
      "execution_count": 44,
      "outputs": [
        {
          "output_type": "stream",
          "name": "stdout",
          "text": [
            "313/313 [==============================] - 6s 19ms/step - loss: 0.9348 - accuracy: 0.6960\n"
          ]
        },
        {
          "output_type": "execute_result",
          "data": {
            "text/plain": [
              "[0.9347971677780151, 0.6959999799728394]"
            ]
          },
          "metadata": {},
          "execution_count": 44
        }
      ]
    },
    {
      "cell_type": "code",
      "source": [
        "Y_pred = cnn.predict(X_test)"
      ],
      "metadata": {
        "colab": {
          "base_uri": "https://localhost:8080/"
        },
        "id": "K-duobNAGjj0",
        "outputId": "30c780db-21e8-47b0-8e30-c003bf03bbcb"
      },
      "execution_count": 45,
      "outputs": [
        {
          "output_type": "stream",
          "name": "stdout",
          "text": [
            "313/313 [==============================] - 6s 18ms/step\n"
          ]
        }
      ]
    },
    {
      "cell_type": "code",
      "source": [
        "print(Y_pred)\n",
        "print(Y_pred.shape)"
      ],
      "metadata": {
        "colab": {
          "base_uri": "https://localhost:8080/"
        },
        "id": "438CunwyGuz4",
        "outputId": "8a681b18-88c0-4ed3-bf2c-cceae4c97c61"
      },
      "execution_count": 47,
      "outputs": [
        {
          "output_type": "stream",
          "name": "stdout",
          "text": [
            "[[2.19933772e-05 8.60215368e-05 3.33181670e-04 ... 2.59103308e-05\n",
            "  1.52640209e-01 1.18248034e-04]\n",
            " [3.95369204e-03 4.85461690e-02 3.55068687e-06 ... 6.36520170e-10\n",
            "  9.47306573e-01 1.86631529e-04]\n",
            " [1.39986575e-01 9.34582204e-02 3.75203323e-03 ... 7.28816085e-04\n",
            "  7.33298004e-01 2.16554459e-02]\n",
            " ...\n",
            " [2.81752436e-04 2.79270421e-06 1.82268187e-01 ... 4.31129505e-04\n",
            "  9.39924757e-06 5.60420267e-06]\n",
            " [3.09072193e-02 2.11976796e-01 9.80818272e-03 ... 1.25777815e-03\n",
            "  6.81435980e-04 3.57334909e-04]\n",
            " [8.11240795e-07 6.07327456e-06 1.15581868e-04 ... 9.91022825e-01\n",
            "  2.23855796e-08 9.07652009e-07]]\n",
            "(10000, 10)\n"
          ]
        }
      ]
    },
    {
      "cell_type": "code",
      "source": [
        "Y_pred_classes = [np.argmax(element) for element in Y_pred]\n",
        "print(Y_pred_classes)"
      ],
      "metadata": {
        "colab": {
          "base_uri": "https://localhost:8080/"
        },
        "id": "QFvuODDdGyF_",
        "outputId": "5c013d08-b353-46df-e14c-329e380bcc4c"
      },
      "execution_count": 48,
      "outputs": [
        {
          "output_type": "stream",
          "name": "stdout",
          "text": [
            "[3, 8, 8, 0, 6, 6, 1, 2, 3, 1, 5, 9, 3, 7, 9, 6, 5, 3, 8, 6, 7, 2, 4, 9, 4, 6, 4, 0, 9, 6, 6, 5, 4, 3, 9, 3, 7, 0, 9, 5, 0, 6, 5, 6, 0, 9, 5, 3, 7, 6, 9, 8, 6, 3, 8, 8, 7, 8, 2, 5, 7, 5, 4, 3, 6, 2, 1, 0, 5, 9, 4, 3, 8, 8, 9, 2, 0, 3, 3, 8, 8, 1, 1, 7, 2, 7, 2, 0, 8, 9, 0, 3, 8, 6, 4, 6, 6, 0, 0, 7, 4, 7, 6, 3, 1, 1, 2, 6, 8, 7, 4, 0, 2, 2, 1, 3, 0, 4, 2, 5, 8, 5, 1, 2, 8, 0, 8, 3, 3, 0, 4, 1, 8, 9, 1, 2, 9, 7, 2, 8, 3, 5, 3, 5, 8, 7, 3, 5, 5, 2, 8, 1, 6, 0, 0, 5, 3, 9, 3, 4, 2, 1, 6, 6, 2, 7, 8, 4, 5, 4, 9, 9, 9, 8, 9, 9, 3, 7, 5, 9, 0, 5, 2, 2, 0, 8, 2, 3, 3, 8, 2, 8, 0, 1, 7, 3, 8, 8, 5, 8, 3, 9, 8, 7, 1, 5, 8, 5, 7, 9, 3, 9, 2, 7, 2, 2, 7, 9, 8, 7, 7, 4, 9, 2, 3, 9, 7, 2, 3, 3, 3, 1, 3, 1, 8, 0, 4, 0, 3, 5, 1, 1, 9, 8, 0, 3, 1, 8, 3, 0, 7, 3, 9, 9, 2, 0, 3, 0, 8, 9, 8, 1, 3, 3, 0, 8, 2, 4, 7, 3, 2, 3, 6, 3, 8, 2, 0, 2, 3, 7, 9, 1, 3, 1, 9, 9, 8, 0, 7, 9, 1, 2, 6, 1, 3, 4, 6, 0, 0, 6, 6, 2, 2, 8, 2, 1, 9, 2, 1, 2, 8, 6, 8, 8, 1, 0, 7, 5, 5, 5, 3, 5, 2, 2, 5, 1, 7, 5, 4, 6, 1, 9, 3, 6, 6, 9, 3, 8, 0, 7, 4, 6, 2, 7, 8, 5, 4, 6, 8, 9, 9, 1, 8, 2, 6, 7, 5, 2, 1, 8, 9, 5, 8, 8, 9, 4, 1, 3, 4, 1, 2, 7, 9, 4, 2, 7, 2, 7, 8, 6, 6, 9, 0, 0, 5, 8, 7, 4, 3, 5, 1, 2, 6, 6, 9, 6, 5, 7, 0, 9, 9, 8, 7, 8, 8, 4, 0, 1, 8, 2, 7, 8, 3, 6, 9, 9, 3, 7, 3, 7, 4, 5, 8, 0, 2, 9, 5, 3, 6, 6, 3, 3, 3, 7, 9, 7, 3, 5, 3, 1, 1, 2, 9, 9, 5, 7, 5, 2, 2, 2, 3, 1, 7, 3, 9, 2, 2, 5, 4, 2, 7, 3, 1, 5, 3, 4, 4, 3, 7, 9, 3, 7, 8, 0, 0, 7, 6, 1, 5, 4, 8, 6, 8, 8, 5, 0, 9, 9, 5, 0, 1, 0, 8, 1, 1, 8, 2, 2, 2, 0, 3, 6, 5, 4, 9, 4, 7, 9, 9, 4, 5, 6, 6, 1, 5, 5, 8, 9, 7, 8, 7, 7, 0, 7, 0, 3, 4, 0, 8, 6, 9, 0, 1, 5, 6, 6, 6, 3, 8, 0, 1, 4, 6, 7, 5, 9, 1, 6, 2, 5, 5, 5, 8, 3, 9, 2, 3, 4, 3, 2, 0, 7, 6, 2, 4, 5, 9, 7, 9, 4, 2, 7, 8, 0, 3, 6, 8, 8, 7, 5, 4, 0, 8, 9, 0, 9, 3, 4, 8, 9, 6, 9, 2, 6, 1, 4, 7, 3, 5, 3, 8, 5, 8, 2, 1, 6, 3, 3, 3, 9, 6, 0, 8, 8, 5, 8, 0, 6, 5, 1, 7, 7, 1, 2, 7, 9, 1, 4, 7, 8, 8, 5, 6, 8, 4, 6, 8, 3, 0, 2, 3, 3, 0, 7, 9, 1, 3, 3, 4, 2, 3, 1, 3, 3, 9, 4, 1, 1, 7, 1, 9, 4, 7, 2, 3, 0, 9, 0, 1, 2, 6, 2, 4, 3, 2, 1, 4, 9, 3, 2, 1, 6, 0, 8, 9, 2, 9, 2, 3, 0, 3, 2, 2, 7, 8, 3, 0, 2, 7, 5, 7, 2, 5, 8, 7, 4, 2, 3, 8, 8, 6, 0, 8, 7, 4, 3, 3, 8, 4, 8, 7, 8, 8, 1, 8, 3, 1, 5, 6, 5, 3, 2, 7, 9, 1, 2, 1, 4, 1, 3, 5, 7, 0, 7, 0, 7, 6, 6, 2, 3, 9, 2, 9, 1, 2, 2, 6, 8, 2, 1, 3, 5, 6, 0, 1, 2, 4, 9, 3, 4, 6, 9, 6, 5, 0, 2, 2, 6, 0, 6, 9, 1, 7, 6, 7, 0, 3, 1, 6, 8, 3, 0, 5, 9, 7, 7, 4, 4, 7, 4, 7, 1, 2, 7, 7, 4, 8, 4, 0, 8, 3, 3, 7, 2, 0, 8, 9, 3, 8, 0, 6, 2, 0, 8, 7, 2, 7, 6, 5, 3, 0, 3, 2, 5, 2, 4, 0, 2, 9, 2, 7, 0, 7, 2, 1, 2, 7, 0, 2, 4, 5, 9, 8, 1, 0, 9, 7, 8, 7, 8, 4, 6, 4, 3, 0, 1, 3, 7, 0, 1, 3, 1, 4, 2, 3, 8, 4, 2, 2, 7, 8, 4, 0, 0, 9, 0, 9, 1, 1, 6, 4, 6, 7, 3, 1, 1, 3, 7, 5, 5, 2, 6, 6, 3, 8, 4, 1, 6, 8, 8, 7, 3, 3, 4, 8, 1, 3, 8, 8, 0, 6, 9, 9, 9, 5, 3, 2, 3, 0, 8, 4, 2, 3, 2, 7, 2, 2, 5, 1, 8, 9, 1, 7, 4, 0, 3, 0, 9, 3, 8, 3, 9, 2, 0, 4, 7, 2, 5, 7, 8, 9, 1, 1, 6, 5, 6, 6, 9, 1, 9, 9, 4, 2, 1, 2, 0, 1, 8, 1, 9, 6, 1, 5, 4, 7, 8, 3, 1, 2, 0, 1, 5, 8, 3, 2, 5, 8, 1, 3, 8, 5, 0, 9, 4, 8, 9, 1, 8, 1, 6, 0, 8, 4, 1, 3, 6, 1, 6, 0, 3, 1, 8, 0, 2, 3, 5, 2, 0, 6, 6, 3, 5, 2, 3, 5, 4, 0, 8, 2, 2, 5, 5, 2, 2, 8, 5, 2, 1, 1, 7, 7, 2, 8, 3, 1, 3, 3, 3, 3, 8, 9, 1, 3, 7, 1, 0, 1, 0, 9, 6, 3, 6, 8, 7, 3, 8, 0, 0, 0, 6, 6, 6, 9, 2, 2, 4, 5, 6, 5, 6, 8, 8, 7, 5, 1, 2, 7, 5, 1, 2, 8, 8, 8, 8, 9, 3, 9, 7, 2, 1, 2, 8, 3, 8, 9, 1, 5, 5, 7, 7, 5, 3, 8, 3, 2, 6, 0, 8, 3, 0, 4, 9, 5, 4, 1, 6, 9, 3, 9, 8, 6, 1, 8, 6, 1, 4, 4, 2, 2, 7, 7, 2, 0, 8, 6, 1, 1, 7, 9, 8, 8, 8, 7, 4, 8, 0, 3, 2, 3, 0, 7, 9, 2, 3, 1, 9, 1, 1, 2, 3, 3, 3, 1, 0, 6, 1, 4, 1, 0, 0, 1, 1, 3, 3, 4, 3, 2, 0, 7, 9, 8, 7, 2, 8, 6, 8, 1, 0, 8, 7, 0, 9, 1, 8, 5, 7, 1, 4, 8, 3, 3, 8, 1, 0, 7, 6, 6, 3, 4, 1, 3, 9, 1, 4, 1, 5, 2, 2, 1, 3, 6, 0, 1, 8, 3, 3, 7, 0, 3, 4, 7, 2, 5, 8, 2, 4, 8, 2, 0, 8, 1, 8, 8, 8, 0, 1, 0, 4, 4, 3, 1, 8, 4, 6, 3, 3, 1, 2, 2, 8, 3, 8, 9, 3, 8, 7, 4, 9, 1, 6, 7, 9, 6, 7, 8, 0, 7, 0, 9, 9, 4, 1, 6, 3, 8, 9, 3, 2, 4, 6, 0, 8, 6, 1, 9, 2, 5, 9, 3, 0, 7, 2, 9, 2, 4, 4, 6, 6, 3, 7, 4, 8, 1, 2, 2, 1, 4, 5, 6, 5, 1, 4, 7, 0, 9, 4, 5, 8, 3, 8, 2, 7, 2, 9, 1, 3, 3, 9, 8, 9, 7, 9, 5, 1, 4, 0, 8, 2, 3, 8, 9, 1, 9, 3, 2, 4, 9, 2, 1, 7, 5, 6, 0, 8, 1, 5, 3, 9, 2, 5, 6, 2, 2, 8, 3, 3, 1, 0, 0, 0, 5, 2, 7, 4, 1, 1, 9, 8, 1, 2, 1, 3, 1, 1, 1, 7, 5, 9, 6, 8, 5, 6, 8, 4, 1, 3, 7, 1, 7, 5, 8, 4, 9, 7, 0, 1, 6, 1, 2, 1, 8, 3, 3, 4, 1, 4, 0, 8, 4, 6, 2, 6, 6, 2, 3, 9, 2, 1, 9, 8, 6, 0, 4, 0, 1, 9, 7, 1, 3, 5, 2, 8, 9, 7, 7, 9, 7, 7, 7, 3, 1, 2, 8, 6, 3, 2, 7, 1, 8, 6, 8, 1, 8, 1, 7, 2, 2, 8, 3, 8, 1, 3, 2, 3, 1, 3, 7, 0, 8, 1, 8, 1, 8, 3, 8, 3, 4, 1, 3, 6, 7, 4, 4, 4, 5, 8, 5, 7, 2, 3, 9, 7, 8, 7, 4, 4, 9, 4, 8, 2, 8, 2, 5, 5, 4, 9, 4, 2, 5, 1, 6, 4, 5, 4, 4, 2, 8, 8, 4, 5, 7, 3, 6, 9, 1, 6, 7, 2, 0, 1, 7, 5, 8, 0, 7, 2, 5, 4, 6, 0, 7, 2, 9, 1, 7, 7, 5, 2, 5, 6, 2, 1, 4, 4, 3, 6, 0, 5, 5, 5, 9, 9, 7, 3, 1, 4, 2, 9, 4, 4, 5, 3, 3, 1, 1, 7, 7, 0, 7, 4, 3, 1, 3, 2, 4, 3, 9, 9, 2, 9, 9, 1, 8, 8, 6, 7, 5, 3, 2, 9, 3, 6, 3, 9, 6, 4, 0, 7, 8, 5, 5, 0, 0, 1, 9, 8, 2, 5, 4, 8, 4, 5, 3, 6, 0, 6, 6, 6, 1, 6, 6, 8, 6, 2, 4, 5, 8, 1, 2, 7, 6, 5, 7, 8, 8, 2, 0, 1, 9, 7, 2, 8, 9, 8, 0, 9, 2, 9, 5, 7, 5, 5, 8, 5, 0, 0, 1, 9, 1, 2, 4, 1, 0, 1, 0, 3, 1, 7, 8, 0, 3, 8, 6, 3, 2, 0, 0, 9, 5, 8, 4, 3, 9, 5, 1, 0, 9, 7, 3, 9, 1, 5, 8, 1, 0, 5, 2, 1, 0, 5, 8, 1, 5, 6, 7, 7, 3, 6, 2, 3, 0, 1, 4, 5, 7, 5, 3, 2, 2, 0, 7, 4, 8, 5, 5, 3, 0, 7, 8, 5, 7, 6, 2, 8, 1, 0, 1, 3, 5, 0, 7, 5, 9, 5, 4, 6, 0, 1, 6, 0, 4, 4, 2, 3, 4, 8, 1, 3, 1, 8, 1, 1, 7, 2, 9, 1, 7, 6, 5, 0, 8, 6, 2, 4, 9, 2, 8, 4, 8, 8, 2, 9, 6, 8, 9, 0, 4, 6, 3, 7, 7, 8, 4, 8, 9, 7, 2, 5, 3, 7, 3, 0, 9, 9, 3, 5, 8, 5, 7, 3, 8, 3, 5, 1, 7, 7, 8, 3, 7, 8, 2, 5, 5, 6, 8, 0, 2, 3, 7, 0, 1, 9, 1, 4, 7, 5, 3, 3, 2, 1, 4, 8, 6, 9, 3, 8, 8, 8, 2, 7, 8, 5, 2, 0, 1, 3, 3, 1, 3, 3, 7, 4, 0, 9, 9, 9, 2, 8, 2, 7, 2, 0, 5, 1, 4, 1, 0, 1, 4, 2, 1, 3, 0, 5, 7, 4, 3, 3, 0, 0, 2, 1, 4, 8, 4, 7, 8, 3, 5, 0, 5, 7, 4, 4, 0, 5, 7, 9, 6, 0, 2, 7, 6, 2, 3, 0, 7, 7, 8, 9, 1, 3, 6, 0, 6, 2, 5, 5, 6, 3, 9, 3, 6, 2, 7, 6, 4, 9, 5, 6, 7, 1, 6, 3, 8, 2, 5, 8, 8, 5, 6, 5, 2, 3, 7, 2, 7, 8, 9, 1, 2, 2, 5, 3, 8, 4, 6, 3, 3, 9, 9, 8, 5, 5, 2, 4, 5, 3, 7, 5, 4, 1, 4, 4, 4, 6, 3, 3, 3, 8, 0, 0, 1, 8, 5, 1, 3, 5, 8, 4, 8, 3, 8, 6, 5, 5, 5, 5, 8, 8, 3, 5, 7, 9, 8, 4, 4, 4, 3, 4, 2, 9, 6, 2, 2, 7, 3, 0, 6, 0, 1, 3, 2, 5, 7, 2, 1, 0, 7, 7, 2, 2, 1, 6, 5, 0, 9, 2, 0, 1, 2, 6, 0, 1, 6, 6, 3, 3, 4, 0, 0, 9, 1, 0, 5, 7, 9, 7, 8, 6, 8, 6, 0, 2, 0, 1, 9, 3, 6, 1, 2, 7, 2, 3, 4, 8, 9, 2, 6, 8, 9, 7, 1, 9, 2, 4, 2, 7, 9, 6, 1, 5, 7, 8, 5, 9, 8, 3, 9, 7, 0, 3, 8, 7, 1, 0, 2, 5, 6, 8, 2, 5, 0, 3, 8, 3, 1, 9, 9, 1, 4, 3, 4, 4, 9, 0, 5, 3, 9, 2, 9, 4, 3, 0, 8, 7, 8, 6, 8, 2, 2, 5, 9, 3, 9, 5, 1, 3, 4, 4, 2, 7, 3, 6, 4, 0, 5, 8, 4, 2, 1, 2, 6, 8, 1, 7, 6, 8, 7, 4, 3, 3, 3, 5, 7, 2, 5, 6, 1, 7, 8, 0, 3, 3, 9, 8, 8, 5, 8, 0, 2, 3, 3, 2, 8, 8, 4, 0, 1, 5, 4, 3, 4, 6, 0, 8, 8, 3, 3, 3, 4, 9, 7, 7, 1, 6, 8, 5, 9, 9, 4, 5, 9, 5, 8, 5, 5, 3, 5, 1, 9, 5, 5, 2, 2, 8, 9, 7, 0, 3, 3, 2, 0, 2, 6, 9, 3, 9, 1, 2, 7, 7, 2, 4, 3, 2, 2, 5, 2, 7, 2, 8, 0, 8, 2, 6, 7, 0, 7, 4, 0, 7, 2, 6, 1, 5, 9, 7, 6, 4, 7, 0, 4, 4, 0, 1, 1, 8, 4, 5, 6, 1, 3, 4, 8, 1, 8, 1, 2, 2, 7, 2, 5, 4, 6, 7, 9, 4, 2, 1, 0, 8, 5, 0, 9, 0, 0, 6, 1, 8, 8, 5, 9, 4, 2, 7, 4, 9, 9, 6, 1, 2, 2, 1, 6, 7, 3, 5, 8, 8, 0, 5, 9, 4, 0, 6, 4, 9, 2, 4, 3, 0, 6, 3, 3, 3, 6, 7, 8, 7, 3, 8, 3, 2, 8, 0, 2, 3, 6, 8, 7, 8, 9, 9, 9, 2, 4, 8, 1, 1, 7, 4, 3, 2, 5, 6, 9, 8, 2, 7, 1, 8, 4, 4, 8, 5, 1, 6, 8, 5, 9, 0, 1, 0, 4, 9, 2, 9, 0, 9, 7, 8, 5, 8, 3, 6, 8, 1, 6, 5, 8, 5, 9, 3, 1, 6, 4, 2, 6, 3, 0, 8, 8, 9, 2, 3, 9, 0, 3, 8, 4, 4, 8, 8, 1, 9, 8, 0, 4, 0, 4, 1, 2, 2, 9, 3, 2, 1, 7, 4, 1, 5, 1, 3, 3, 3, 2, 8, 1, 5, 6, 2, 1, 6, 9, 3, 5, 1, 5, 8, 2, 1, 8, 3, 2, 7, 8, 2, 0, 6, 4, 4, 9, 8, 7, 7, 6, 2, 6, 7, 7, 6, 4, 2, 2, 5, 2, 3, 7, 0, 2, 9, 6, 7, 8, 7, 3, 4, 8, 8, 3, 4, 5, 7, 6, 5, 3, 0, 4, 0, 3, 8, 5, 8, 0, 4, 1, 5, 3, 3, 8, 1, 6, 0, 8, 4, 5, 1, 2, 3, 2, 4, 3, 4, 0, 7, 1, 3, 5, 3, 1, 8, 2, 3, 8, 2, 7, 7, 0, 4, 5, 4, 5, 3, 1, 4, 1, 6, 4, 6, 7, 4, 2, 3, 8, 1, 5, 1, 3, 6, 5, 8, 7, 4, 5, 4, 9, 5, 7, 2, 5, 3, 6, 7, 4, 1, 6, 1, 2, 6, 9, 0, 3, 4, 0, 2, 6, 7, 0, 0, 0, 0, 7, 5, 3, 7, 7, 8, 3, 5, 1, 2, 8, 9, 1, 2, 2, 0, 3, 4, 9, 1, 4, 0, 8, 8, 3, 6, 4, 6, 7, 5, 8, 8, 8, 0, 5, 0, 2, 3, 3, 8, 4, 2, 0, 8, 5, 9, 4, 3, 6, 5, 7, 4, 7, 3, 9, 0, 3, 2, 1, 6, 2, 9, 9, 8, 2, 8, 1, 0, 5, 2, 3, 7, 9, 7, 7, 1, 9, 3, 2, 1, 2, 4, 1, 9, 4, 3, 5, 1, 3, 7, 6, 2, 5, 3, 7, 5, 4, 1, 7, 0, 0, 0, 1, 2, 7, 3, 2, 9, 8, 7, 0, 9, 0, 3, 7, 5, 3, 8, 4, 5, 6, 5, 3, 4, 0, 9, 3, 4, 7, 2, 0, 1, 9, 7, 4, 9, 4, 1, 6, 7, 5, 2, 7, 6, 4, 5, 4, 0, 6, 3, 3, 0, 4, 8, 8, 8, 0, 2, 3, 2, 7, 7, 3, 5, 6, 0, 9, 5, 5, 4, 7, 9, 9, 3, 2, 0, 4, 1, 5, 5, 5, 6, 5, 6, 9, 5, 7, 4, 8, 3, 1, 9, 1, 8, 9, 0, 3, 3, 4, 7, 7, 2, 6, 3, 6, 9, 3, 5, 5, 7, 2, 8, 1, 5, 8, 3, 8, 9, 2, 2, 9, 2, 7, 4, 0, 9, 7, 0, 2, 1, 6, 0, 5, 2, 1, 4, 2, 8, 3, 8, 3, 7, 1, 4, 9, 8, 1, 1, 5, 9, 9, 4, 3, 4, 5, 3, 2, 2, 5, 3, 5, 1, 9, 7, 9, 1, 0, 3, 1, 0, 3, 8, 1, 5, 0, 2, 8, 7, 9, 4, 8, 3, 0, 7, 0, 7, 0, 5, 3, 4, 3, 0, 9, 2, 2, 3, 0, 0, 8, 2, 4, 5, 2, 8, 8, 5, 5, 5, 4, 3, 8, 0, 8, 4, 8, 5, 5, 6, 5, 1, 7, 2, 3, 2, 5, 6, 8, 7, 6, 3, 9, 3, 6, 6, 4, 5, 5, 2, 1, 8, 7, 5, 0, 4, 4, 1, 1, 1, 6, 7, 7, 9, 2, 3, 9, 8, 4, 1, 7, 4, 8, 8, 7, 7, 8, 6, 8, 3, 0, 2, 2, 3, 8, 9, 4, 6, 1, 3, 7, 7, 9, 2, 1, 3, 1, 4, 0, 3, 0, 5, 8, 5, 1, 3, 2, 1, 8, 8, 1, 9, 7, 3, 3, 2, 9, 0, 6, 8, 4, 1, 7, 7, 0, 5, 7, 7, 4, 9, 0, 7, 8, 6, 7, 1, 8, 3, 3, 8, 5, 0, 0, 3, 8, 2, 7, 0, 6, 4, 3, 9, 1, 8, 6, 3, 9, 4, 9, 3, 3, 4, 5, 9, 7, 7, 4, 5, 8, 9, 8, 9, 5, 3, 8, 9, 2, 2, 0, 1, 9, 8, 1, 1, 0, 8, 9, 9, 0, 2, 2, 9, 1, 9, 2, 1, 9, 2, 4, 8, 9, 1, 8, 9, 2, 1, 7, 0, 5, 6, 3, 9, 8, 3, 0, 3, 0, 7, 3, 8, 3, 8, 4, 4, 3, 5, 7, 6, 6, 6, 5, 6, 3, 4, 3, 8, 8, 0, 8, 2, 9, 8, 6, 9, 3, 1, 4, 7, 7, 0, 9, 5, 4, 7, 6, 9, 0, 2, 3, 0, 5, 3, 2, 8, 3, 5, 5, 9, 6, 1, 8, 7, 3, 8, 7, 7, 1, 5, 0, 3, 2, 5, 4, 2, 5, 5, 4, 7, 3, 3, 7, 0, 5, 1, 0, 8, 7, 3, 5, 7, 8, 3, 7, 8, 9, 4, 4, 7, 0, 8, 5, 2, 1, 2, 4, 8, 6, 5, 9, 8, 5, 5, 4, 1, 0, 9, 4, 7, 3, 4, 4, 8, 0, 8, 2, 9, 3, 1, 7, 4, 6, 7, 5, 2, 9, 3, 7, 7, 8, 3, 9, 2, 2, 5, 3, 8, 4, 3, 2, 2, 3, 8, 4, 2, 5, 1, 0, 7, 0, 3, 6, 1, 8, 7, 9, 7, 0, 9, 1, 2, 8, 1, 2, 3, 8, 0, 3, 2, 1, 7, 4, 5, 1, 1, 4, 9, 8, 7, 9, 5, 1, 5, 1, 3, 6, 4, 5, 7, 4, 5, 8, 3, 4, 8, 5, 8, 2, 3, 6, 1, 3, 3, 0, 3, 1, 9, 2, 6, 0, 0, 8, 2, 2, 8, 5, 7, 6, 1, 2, 9, 4, 5, 0, 1, 2, 7, 2, 3, 1, 4, 5, 0, 3, 8, 5, 0, 0, 7, 2, 2, 8, 4, 5, 3, 7, 6, 4, 7, 9, 6, 5, 0, 3, 2, 0, 0, 5, 4, 5, 1, 1, 5, 5, 2, 2, 3, 3, 4, 3, 9, 1, 5, 2, 3, 9, 6, 5, 0, 2, 1, 3, 1, 7, 2, 2, 0, 8, 3, 4, 3, 2, 7, 7, 0, 4, 8, 6, 5, 1, 3, 4, 5, 9, 0, 9, 2, 0, 0, 3, 0, 1, 1, 7, 7, 9, 5, 2, 4, 3, 3, 5, 8, 4, 3, 7, 8, 9, 1, 5, 8, 1, 8, 2, 6, 7, 2, 4, 1, 1, 6, 6, 9, 8, 2, 2, 5, 0, 8, 2, 3, 6, 2, 9, 6, 1, 4, 5, 9, 0, 1, 7, 0, 8, 8, 1, 3, 6, 2, 5, 4, 9, 5, 8, 6, 9, 1, 7, 6, 0, 9, 3, 3, 3, 2, 0, 3, 5, 9, 7, 1, 8, 4, 6, 1, 5, 8, 8, 2, 6, 7, 7, 6, 7, 2, 5, 7, 4, 6, 2, 7, 2, 0, 1, 3, 2, 6, 3, 2, 0, 9, 3, 1, 1, 5, 5, 0, 2, 3, 2, 1, 7, 4, 3, 5, 4, 8, 9, 4, 3, 1, 8, 9, 1, 3, 2, 4, 4, 6, 9, 7, 2, 8, 1, 8, 9, 9, 3, 9, 7, 3, 0, 0, 2, 9, 0, 9, 3, 7, 4, 6, 0, 1, 6, 1, 6, 5, 5, 5, 2, 3, 9, 4, 0, 8, 0, 4, 1, 5, 1, 0, 0, 4, 3, 0, 9, 2, 8, 9, 3, 7, 9, 1, 4, 2, 2, 8, 2, 4, 8, 9, 3, 1, 1, 6, 0, 8, 4, 6, 6, 5, 0, 4, 4, 2, 5, 1, 6, 6, 8, 5, 2, 0, 7, 1, 4, 2, 3, 9, 3, 8, 1, 6, 9, 3, 7, 5, 3, 2, 9, 9, 0, 2, 9, 3, 4, 1, 2, 9, 5, 8, 9, 7, 1, 3, 0, 1, 7, 9, 3, 4, 7, 0, 4, 8, 1, 0, 4, 4, 1, 9, 1, 0, 1, 2, 5, 6, 0, 7, 7, 2, 4, 2, 0, 2, 5, 2, 7, 5, 7, 7, 4, 7, 0, 5, 1, 7, 5, 6, 5, 7, 9, 2, 7, 8, 3, 9, 3, 8, 5, 7, 5, 4, 9, 8, 1, 2, 4, 8, 9, 3, 2, 8, 4, 0, 2, 0, 1, 3, 3, 8, 5, 5, 7, 9, 8, 5, 7, 9, 1, 5, 3, 9, 8, 3, 3, 0, 9, 0, 8, 2, 9, 2, 2, 3, 8, 1, 9, 1, 8, 3, 7, 6, 7, 2, 9, 7, 0, 3, 4, 8, 8, 8, 7, 9, 6, 7, 7, 4, 3, 7, 6, 7, 9, 7, 3, 6, 8, 3, 6, 6, 7, 1, 5, 9, 7, 1, 2, 0, 1, 2, 6, 8, 9, 8, 1, 7, 2, 2, 2, 2, 2, 9, 8, 7, 4, 4, 9, 2, 6, 7, 3, 0, 2, 3, 5, 1, 9, 0, 5, 3, 1, 5, 6, 7, 2, 7, 6, 8, 8, 9, 3, 6, 9, 0, 7, 5, 8, 4, 1, 5, 8, 1, 4, 4, 5, 0, 3, 8, 9, 5, 5, 8, 7, 1, 9, 0, 4, 4, 8, 2, 9, 0, 7, 9, 8, 7, 9, 6, 2, 9, 0, 5, 9, 9, 6, 7, 0, 1, 1, 2, 4, 2, 0, 6, 8, 9, 5, 2, 5, 9, 0, 2, 7, 0, 0, 5, 8, 6, 8, 2, 7, 7, 1, 1, 8, 1, 3, 5, 9, 4, 8, 9, 6, 3, 8, 1, 9, 4, 0, 3, 1, 4, 3, 6, 2, 5, 0, 0, 9, 7, 8, 7, 0, 3, 2, 7, 7, 4, 5, 4, 2, 3, 5, 4, 0, 0, 0, 7, 7, 1, 3, 5, 0, 7, 7, 4, 2, 1, 8, 5, 9, 2, 5, 6, 2, 2, 7, 3, 5, 8, 1, 9, 6, 8, 7, 7, 8, 5, 7, 5, 4, 9, 7, 3, 5, 8, 2, 2, 0, 3, 7, 2, 0, 8, 0, 7, 8, 3, 4, 5, 2, 9, 5, 0, 4, 8, 2, 4, 2, 3, 4, 3, 6, 0, 8, 2, 0, 6, 1, 1, 6, 1, 4, 2, 1, 2, 2, 3, 4, 4, 3, 8, 8, 5, 1, 8, 2, 5, 3, 9, 6, 4, 5, 0, 7, 3, 3, 2, 2, 4, 5, 6, 0, 6, 1, 8, 2, 0, 9, 3, 5, 0, 3, 0, 2, 7, 3, 6, 7, 6, 0, 0, 3, 7, 4, 7, 7, 0, 6, 1, 7, 9, 0, 9, 0, 3, 8, 4, 0, 8, 2, 1, 0, 2, 4, 4, 1, 1, 7, 7, 5, 4, 1, 4, 7, 1, 0, 2, 9, 0, 0, 8, 8, 7, 5, 5, 0, 5, 0, 8, 6, 2, 5, 9, 2, 9, 1, 1, 2, 4, 7, 5, 8, 6, 4, 9, 5, 7, 5, 4, 1, 1, 9, 9, 8, 9, 8, 6, 8, 5, 8, 8, 4, 6, 4, 2, 3, 0, 7, 4, 0, 0, 7, 3, 1, 5, 8, 5, 1, 6, 8, 2, 3, 3, 9, 1, 2, 3, 1, 7, 2, 3, 1, 9, 2, 0, 1, 9, 9, 8, 8, 4, 3, 5, 5, 0, 5, 2, 0, 2, 4, 7, 5, 3, 0, 2, 8, 8, 1, 6, 1, 5, 7, 5, 9, 6, 7, 1, 0, 6, 9, 4, 7, 7, 3, 8, 9, 1, 9, 7, 0, 1, 5, 5, 4, 2, 3, 8, 8, 0, 4, 8, 3, 4, 2, 3, 0, 3, 2, 2, 6, 8, 4, 9, 8, 9, 2, 0, 4, 2, 8, 1, 1, 0, 0, 4, 7, 4, 1, 1, 9, 4, 7, 4, 2, 8, 0, 0, 2, 8, 5, 2, 2, 3, 5, 7, 9, 8, 9, 5, 3, 1, 4, 8, 4, 6, 5, 3, 1, 8, 9, 5, 7, 6, 2, 0, 6, 9, 9, 0, 3, 3, 3, 2, 1, 1, 0, 2, 8, 2, 1, 1, 5, 5, 2, 3, 4, 1, 5, 3, 4, 9, 5, 4, 8, 9, 9, 8, 4, 1, 0, 2, 2, 0, 6, 8, 7, 3, 3, 8, 9, 0, 5, 7, 3, 6, 1, 3, 9, 5, 8, 5, 4, 4, 9, 0, 3, 3, 1, 7, 9, 9, 2, 2, 4, 7, 8, 5, 4, 7, 0, 2, 8, 4, 8, 3, 8, 8, 8, 3, 5, 5, 7, 7, 5, 4, 1, 5, 3, 5, 0, 6, 8, 3, 9, 0, 1, 8, 9, 6, 7, 9, 2, 4, 4, 0, 3, 3, 4, 4, 5, 1, 1, 8, 2, 2, 1, 3, 2, 8, 9, 2, 4, 1, 7, 3, 2, 5, 0, 1, 0, 3, 3, 3, 7, 1, 8, 0, 0, 3, 1, 3, 3, 7, 4, 9, 8, 4, 8, 9, 9, 4, 3, 6, 2, 6, 4, 8, 4, 3, 6, 3, 8, 7, 4, 8, 2, 5, 9, 5, 2, 0, 7, 3, 1, 9, 4, 9, 1, 8, 4, 2, 1, 6, 4, 3, 9, 1, 4, 8, 3, 1, 7, 1, 4, 2, 4, 3, 6, 9, 7, 8, 2, 3, 5, 4, 3, 4, 2, 7, 3, 5, 8, 1, 5, 7, 8, 5, 6, 0, 2, 5, 2, 2, 7, 4, 5, 1, 6, 8, 6, 8, 3, 2, 7, 5, 9, 7, 1, 4, 5, 5, 6, 1, 7, 3, 0, 8, 6, 6, 8, 6, 6, 0, 3, 4, 7, 4, 8, 3, 9, 9, 3, 4, 1, 4, 0, 2, 7, 1, 2, 2, 0, 7, 7, 8, 3, 3, 6, 3, 1, 0, 6, 4, 9, 8, 2, 9, 3, 0, 3, 9, 4, 1, 6, 9, 9, 4, 3, 9, 8, 1, 3, 9, 3, 1, 0, 9, 7, 5, 4, 4, 5, 6, 4, 8, 1, 9, 3, 6, 5, 1, 8, 6, 0, 8, 6, 5, 9, 3, 3, 6, 1, 2, 0, 1, 6, 4, 3, 0, 5, 9, 9, 0, 5, 4, 1, 6, 9, 8, 9, 0, 6, 1, 6, 2, 3, 5, 6, 1, 0, 7, 2, 4, 8, 3, 5, 8, 2, 1, 1, 3, 4, 6, 2, 3, 9, 5, 4, 9, 9, 7, 0, 7, 3, 3, 1, 8, 3, 0, 5, 0, 8, 8, 3, 8, 6, 0, 4, 5, 3, 4, 1, 4, 0, 2, 3, 9, 3, 3, 3, 1, 4, 4, 5, 9, 9, 7, 1, 7, 0, 1, 2, 1, 3, 8, 8, 5, 1, 3, 1, 9, 0, 7, 0, 1, 7, 6, 2, 6, 5, 9, 0, 1, 0, 8, 9, 1, 0, 8, 8, 4, 9, 8, 9, 1, 3, 6, 7, 6, 8, 8, 6, 2, 3, 2, 3, 5, 5, 7, 1, 6, 4, 1, 6, 1, 7, 1, 6, 4, 3, 0, 4, 2, 9, 7, 3, 3, 8, 0, 9, 8, 1, 1, 3, 5, 6, 2, 3, 8, 7, 6, 1, 7, 7, 5, 9, 1, 9, 1, 1, 8, 9, 3, 5, 5, 2, 0, 9, 0, 6, 3, 0, 4, 8, 9, 6, 3, 1, 1, 2, 7, 9, 0, 1, 0, 5, 4, 4, 7, 3, 8, 5, 3, 2, 4, 5, 0, 0, 1, 2, 9, 8, 9, 3, 3, 5, 9, 1, 9, 1, 1, 5, 2, 3, 2, 2, 3, 5, 6, 5, 8, 1, 7, 7, 5, 2, 3, 5, 1, 7, 6, 0, 4, 4, 3, 0, 3, 4, 2, 7, 5, 6, 2, 7, 2, 6, 0, 3, 1, 8, 0, 2, 8, 1, 5, 4, 0, 1, 5, 0, 4, 2, 5, 4, 5, 0, 8, 4, 6, 3, 1, 2, 0, 5, 9, 5, 5, 1, 7, 3, 1, 8, 3, 9, 0, 9, 2, 8, 4, 6, 1, 2, 9, 5, 0, 4, 1, 5, 9, 3, 1, 2, 8, 4, 3, 5, 0, 8, 1, 7, 5, 6, 9, 3, 6, 5, 9, 5, 6, 1, 0, 9, 0, 9, 8, 7, 7, 2, 2, 2, 5, 4, 7, 8, 7, 5, 9, 1, 9, 8, 6, 3, 4, 7, 5, 3, 7, 2, 5, 9, 6, 6, 2, 0, 1, 4, 1, 3, 6, 2, 6, 1, 2, 5, 1, 9, 9, 8, 6, 8, 8, 8, 9, 8, 4, 2, 3, 3, 6, 4, 0, 9, 7, 6, 5, 8, 6, 4, 6, 0, 3, 5, 4, 0, 2, 7, 2, 4, 2, 9, 2, 9, 0, 6, 1, 2, 4, 5, 5, 9, 1, 0, 2, 3, 3, 2, 4, 8, 0, 0, 5, 9, 6, 7, 4, 2, 8, 1, 6, 3, 1, 1, 5, 3, 8, 4, 2, 4, 7, 5, 3, 5, 7, 1, 1, 6, 1, 5, 4, 0, 7, 5, 0, 0, 8, 1, 7, 3, 5, 8, 4, 3, 9, 7, 5, 8, 4, 0, 4, 9, 6, 0, 1, 2, 1, 7, 9, 9, 8, 5, 3, 4, 0, 9, 0, 0, 8, 2, 0, 0, 7, 4, 8, 6, 2, 4, 6, 3, 5, 1, 5, 3, 9, 2, 2, 9, 8, 0, 0, 9, 3, 4, 5, 6, 1, 6, 5, 4, 4, 3, 9, 3, 0, 8, 0, 2, 5, 5, 7, 9, 7, 0, 5, 7, 7, 3, 1, 9, 3, 0, 9, 5, 3, 9, 9, 4, 4, 1, 7, 3, 1, 4, 1, 9, 8, 7, 0, 0, 4, 5, 2, 9, 7, 6, 1, 3, 5, 1, 0, 4, 6, 8, 3, 5, 4, 7, 1, 1, 3, 1, 7, 3, 1, 4, 8, 7, 0, 1, 6, 9, 0, 2, 7, 7, 8, 1, 2, 3, 2, 6, 7, 8, 2, 8, 0, 5, 3, 7, 2, 1, 3, 0, 8, 6, 3, 9, 6, 5, 4, 1, 9, 1, 0, 1, 0, 1, 8, 8, 3, 9, 0, 4, 7, 2, 0, 7, 7, 9, 1, 2, 6, 6, 5, 4, 4, 1, 3, 8, 6, 6, 0, 1, 6, 5, 6, 3, 8, 5, 6, 7, 1, 9, 5, 6, 4, 3, 0, 4, 1, 9, 3, 2, 6, 9, 7, 3, 5, 9, 1, 3, 6, 0, 2, 2, 9, 1, 8, 3, 3, 3, 3, 0, 5, 4, 7, 3, 3, 3, 3, 1, 6, 1, 3, 1, 0, 6, 2, 3, 2, 1, 7, 2, 1, 9, 8, 3, 2, 9, 7, 3, 0, 0, 5, 9, 4, 4, 3, 1, 6, 8, 6, 6, 8, 2, 4, 4, 4, 7, 7, 4, 6, 9, 6, 2, 4, 0, 2, 3, 6, 5, 9, 3, 6, 0, 7, 8, 7, 5, 8, 3, 8, 3, 2, 2, 3, 9, 5, 7, 3, 5, 7, 9, 0, 1, 6, 7, 2, 4, 5, 5, 5, 5, 5, 8, 3, 3, 3, 3, 2, 5, 6, 4, 3, 6, 3, 1, 6, 7, 9, 5, 8, 1, 9, 7, 3, 5, 4, 3, 9, 5, 5, 3, 0, 0, 0, 0, 0, 3, 2, 4, 2, 3, 7, 9, 6, 9, 8, 1, 2, 3, 7, 4, 5, 1, 3, 7, 2, 9, 8, 8, 3, 8, 5, 8, 5, 6, 5, 0, 8, 2, 1, 1, 8, 1, 5, 2, 9, 1, 3, 3, 6, 9, 4, 5, 7, 4, 7, 4, 2, 5, 4, 7, 5, 7, 3, 8, 5, 2, 3, 3, 4, 0, 5, 7, 3, 6, 2, 4, 3, 1, 7, 8, 8, 6, 0, 6, 1, 7, 1, 6, 3, 8, 5, 9, 7, 3, 1, 1, 0, 2, 3, 2, 6, 7, 1, 6, 0, 8, 3, 7, 2, 5, 7, 5, 7, 7, 1, 5, 4, 3, 3, 4, 1, 4, 2, 7, 0, 5, 5, 6, 3, 2, 5, 2, 6, 0, 8, 8, 5, 9, 0, 2, 1, 5, 5, 1, 4, 7, 1, 4, 6, 3, 5, 6, 0, 1, 1, 2, 2, 2, 1, 3, 6, 2, 3, 7, 8, 8, 3, 6, 4, 9, 3, 3, 5, 7, 4, 8, 1, 2, 6, 8, 0, 7, 9, 8, 7, 7, 3, 8, 2, 9, 3, 5, 7, 5, 8, 7, 3, 7, 0, 7, 9, 6, 2, 4, 1, 0, 5, 9, 8, 2, 8, 8, 4, 3, 6, 0, 1, 7, 1, 6, 1, 9, 1, 0, 6, 5, 2, 5, 7, 3, 4, 8, 3, 5, 4, 7, 0, 5, 3, 3, 5, 9, 5, 7, 0, 5, 4, 5, 8, 9, 2, 5, 0, 8, 2, 1, 2, 2, 6, 7, 6, 0, 5, 5, 8, 3, 7, 6, 1, 2, 5, 6, 5, 5, 0, 7, 2, 0, 1, 5, 4, 1, 3, 4, 7, 9, 3, 3, 2, 7, 5, 3, 1, 6, 9, 5, 8, 0, 5, 1, 4, 4, 4, 2, 1, 3, 2, 2, 0, 8, 0, 7, 6, 9, 4, 8, 1, 5, 7, 9, 0, 7, 1, 4, 7, 2, 8, 3, 6, 4, 7, 8, 3, 9, 2, 1, 0, 8, 7, 7, 1, 5, 3, 0, 2, 7, 7, 2, 3, 4, 4, 3, 6, 3, 1, 9, 1, 7, 9, 4, 2, 2, 0, 2, 5, 0, 6, 1, 0, 9, 7, 8, 0, 2, 6, 9, 8, 6, 6, 7, 9, 9, 7, 9, 9, 3, 5, 1, 1, 0, 6, 9, 9, 5, 6, 3, 3, 9, 7, 9, 4, 5, 4, 5, 7, 9, 8, 8, 3, 7, 8, 4, 0, 2, 0, 7, 0, 8, 1, 2, 0, 7, 4, 0, 6, 2, 3, 2, 2, 2, 6, 4, 0, 6, 9, 5, 6, 3, 5, 0, 5, 3, 5, 3, 3, 8, 0, 1, 3, 4, 2, 9, 5, 0, 3, 4, 8, 1, 3, 6, 5, 4, 8, 5, 0, 1, 8, 3, 5, 8, 4, 3, 0, 4, 0, 1, 9, 4, 0, 4, 3, 5, 2, 6, 8, 3, 8, 8, 4, 5, 2, 4, 6, 7, 2, 2, 5, 1, 0, 0, 5, 1, 2, 9, 4, 6, 7, 1, 0, 5, 2, 5, 9, 2, 5, 6, 7, 1, 9, 7, 6, 1, 0, 2, 9, 3, 2, 9, 2, 8, 3, 9, 8, 5, 1, 0, 1, 5, 2, 3, 6, 3, 9, 5, 5, 0, 3, 1, 3, 7, 1, 2, 3, 7, 2, 0, 9, 9, 8, 3, 9, 7, 3, 9, 9, 4, 7, 1, 5, 6, 7, 0, 8, 9, 4, 3, 1, 2, 6, 3, 3, 7, 3, 1, 3, 7, 5, 2, 4, 1, 1, 5, 3, 9, 2, 5, 8, 0, 8, 1, 5, 1, 3, 9, 0, 1, 2, 3, 0, 6, 9, 1, 1, 3, 3, 9, 5, 3, 3, 5, 3, 7, 1, 3, 9, 8, 7, 3, 8, 7, 4, 2, 2, 5, 8, 9, 7, 5, 0, 0, 7, 5, 9, 5, 2, 7, 6, 2, 8, 1, 7, 2, 3, 9, 6, 8, 6, 2, 0, 4, 4, 8, 5, 4, 0, 2, 5, 4, 0, 2, 4, 4, 6, 9, 2, 0, 5, 3, 2, 8, 2, 6, 4, 7, 9, 5, 7, 2, 2, 2, 1, 9, 9, 7, 4, 3, 1, 8, 1, 4, 3, 0, 8, 1, 5, 6, 9, 1, 9, 3, 3, 0, 8, 8, 5, 5, 3, 1, 1, 1, 0, 0, 4, 0, 3, 4, 6, 5, 3, 2, 9, 6, 1, 7, 2, 7, 7, 0, 8, 7, 2, 7, 7, 4, 4, 0, 3, 8, 0, 5, 3, 0, 2, 2, 9, 5, 3, 3, 2, 8, 8, 2, 3, 8, 0, 8, 2, 0, 0, 2, 4, 7, 0, 7, 7, 7, 2, 3, 0, 4, 0, 1, 7, 8, 4, 7, 9, 5, 1, 1, 6, 9, 3, 8, 9, 7, 8, 5, 1, 3, 2, 7, 5, 5, 7, 7, 5, 7, 9, 6, 2, 0, 8, 4, 5, 3, 1, 1, 7, 8, 4, 7, 9, 3, 2, 0, 9, 1, 9, 1, 2, 8, 1, 7, 1, 0, 8, 7, 6, 5, 5, 8, 1, 1, 2, 3, 1, 1, 1, 8, 8, 8, 9, 8, 0, 4, 4, 3, 5, 6, 6, 3, 1, 2, 4, 7, 8, 0, 1, 5, 8, 7, 6, 2, 2, 2, 6, 3, 4, 0, 8, 1, 3, 3, 3, 8, 9, 1, 6, 1, 9, 8, 3, 0, 4, 7, 4, 1, 2, 7, 6, 8, 9, 8, 6, 2, 8, 0, 5, 9, 1, 0, 7, 7, 4, 5, 7, 9, 2, 6, 6, 7, 4, 5, 8, 0, 1, 1, 7, 2, 5, 2, 2, 2, 7, 6, 2, 6, 4, 9, 4, 8, 3, 8, 7, 5, 0, 5, 4, 5, 3, 7, 7, 1, 5, 2, 7, 8, 8, 9, 3, 0, 8, 2, 6, 0, 8, 1, 4, 1, 3, 5, 1, 8, 9, 5, 4, 6, 9, 5, 0, 3, 9, 9, 6, 2, 9, 9, 3, 4, 5, 2, 3, 5, 9, 6, 9, 4, 9, 4, 0, 5, 1, 6, 3, 8, 2, 7, 3, 5, 2, 0, 2, 3, 1, 3, 6, 7, 0, 8, 9, 2, 3, 5, 7, 5, 5, 8, 8, 5, 8, 5, 7, 7, 4, 0, 1, 7, 0, 4, 8, 4, 4, 2, 3, 3, 0, 7, 3, 3, 0, 4, 3, 2, 9, 1, 1, 3, 8, 9, 1, 0, 6, 5, 5, 0, 9, 0, 6, 2, 2, 4, 1, 3, 7, 3, 1, 0, 4, 6, 0, 4, 5, 4, 7, 6, 2, 3, 5, 9, 2, 5, 2, 0, 5, 3, 4, 3, 2, 4, 5, 8, 1, 9, 3, 0, 8, 2, 8, 6, 3, 7, 4, 0, 2, 5, 2, 8, 1, 8, 6, 9, 2, 3, 2, 2, 3, 3, 5, 0, 5, 1, 2, 8, 0, 8, 2, 2, 2, 5, 7, 9, 8, 4, 6, 1, 9, 8, 6, 3, 5, 8, 9, 4, 9, 0, 0, 2, 0, 1, 8, 2, 7, 5, 8, 2, 9, 3, 8, 9, 0, 8, 9, 7, 4, 8, 9, 5, 5, 2, 2, 5, 9, 8, 1, 2, 3, 1, 3, 9, 2, 7, 2, 8, 2, 2, 1, 7, 3, 5, 3, 9, 3, 3, 5, 1, 1, 2, 7, 2, 3, 8, 9, 4, 0, 8, 9, 3, 6, 7, 6, 1, 1, 1, 7, 8, 6, 8, 9, 9, 6, 1, 0, 1, 8, 7, 2, 1, 3, 2, 5, 2, 3, 6, 2, 3, 8, 1, 8, 9, 4, 1, 5, 7, 5, 1, 8, 9, 1, 3, 1, 7, 3, 9, 8, 1, 5, 6, 0, 9, 3, 0, 4, 5, 3, 1, 1, 2, 1, 5, 6, 0, 3, 4, 6, 1, 4, 5, 9, 3, 3, 6, 5, 4, 8, 5, 1, 2, 4, 9, 4, 0, 0, 1, 3, 4, 5, 5, 9, 3, 3, 6, 0, 3, 8, 3, 2, 3, 2, 4, 9, 5, 2, 1, 6, 4, 7, 7, 6, 9, 3, 8, 1, 4, 0, 4, 4, 2, 6, 6, 0, 3, 2, 5, 5, 2, 5, 0, 5, 9, 3, 6, 7, 9, 8, 3, 2, 1, 2, 0, 4, 5, 5, 6, 8, 5, 8, 0, 9, 8, 9, 0, 7, 6, 6, 0, 2, 9, 8, 4, 9, 5, 3, 0, 3, 8, 3, 3, 9, 1, 5, 9, 1, 2, 7, 4, 4, 0, 2, 9, 1, 1, 8, 5, 8, 7, 7, 3, 1, 4, 3, 4, 1, 0, 5, 8, 8, 0, 1, 5, 7, 2, 8, 6, 9, 1, 3, 0, 3, 7, 1, 3, 5, 5, 9, 8, 2, 7, 9, 2, 2, 9, 6, 3, 5, 1, 4, 4, 0, 4, 8, 0, 9, 5, 3, 0, 1, 0, 0, 8, 6, 4, 3, 9, 8, 2, 2, 8, 3, 1, 1, 0, 8, 2, 6, 9, 6, 8, 3, 4, 1, 5, 2, 3, 9, 0, 0, 7, 1, 8, 9, 5, 9, 9, 0, 7, 7, 0, 8, 2, 3, 3, 2, 7, 7, 8, 7, 3, 8, 2, 2, 4, 2, 8, 7, 1, 5, 2, 6, 0, 0, 2, 3, 8, 4, 5, 4, 3, 5, 0, 9, 1, 0, 3, 3, 5, 9, 7, 9, 9, 6, 2, 5, 0, 5, 3, 8, 6, 6, 4, 0, 6, 4, 1, 5, 0, 0, 4, 5, 8, 2, 8, 2, 0, 5, 2, 3, 3, 8, 5, 0, 0, 9, 1, 5, 7, 2, 5, 5, 5, 6, 0, 2, 1, 7, 3, 1, 9, 2, 4, 6, 3, 7, 5, 7, 0, 9, 6, 6, 0, 2, 5, 8, 3, 7, 7, 0, 2, 7, 7, 8, 8, 2, 0, 4, 8, 1, 4, 0, 5, 5, 4, 6, 2, 3, 1, 0, 2, 2, 2, 2, 5, 1, 2, 0, 0, 7, 9, 3, 8, 7, 1, 1, 7, 4, 8, 5, 2, 8, 9, 5, 9, 2, 9, 7, 2, 4, 0, 3, 4, 1, 5, 4, 2, 8, 5, 9, 8, 7, 8, 4, 2, 5, 4, 0, 5, 4, 1, 8, 3, 5, 4, 3, 4, 6, 3, 7, 9, 4, 1, 4, 9, 9, 1, 4, 5, 5, 3, 2, 1, 4, 1, 9, 2, 3, 7, 0, 3, 3, 5, 7, 3, 5, 8, 9, 4, 6, 3, 6, 6, 8, 3, 6, 8, 8, 4, 1, 5, 9, 2, 3, 3, 0, 1, 5, 2, 2, 8, 2, 4, 3, 8, 4, 4, 4, 4, 1, 5, 5, 7, 6, 5, 4, 5, 6, 5, 6, 2, 4, 7, 7, 4, 6, 5, 0, 2, 3, 9, 1, 3, 8, 0, 7, 0, 6, 8, 1, 5, 8, 1, 1, 5, 4, 2, 3, 5, 5, 8, 6, 5, 0, 3, 7, 1, 3, 5, 7, 5, 4, 9, 4, 3, 9, 3, 1, 7, 6, 6, 4, 8, 3, 1, 5, 8, 3, 3, 3, 3, 3, 0, 4, 8, 7, 2, 9, 3, 8, 4, 5, 9, 1, 0, 3, 9, 3, 8, 0, 2, 3, 7, 2, 9, 2, 7, 2, 0, 3, 2, 9, 7, 5, 0, 7, 0, 7, 5, 5, 3, 9, 7, 5, 9, 6, 7, 0, 9, 2, 1, 1, 2, 9, 0, 9, 4, 2, 5, 8, 5, 9, 1, 2, 8, 1, 6, 6, 8, 6, 9, 3, 1, 1, 3, 3, 5, 0, 5, 6, 1, 4, 4, 1, 1, 8, 1, 1, 2, 3, 4, 9, 9, 5, 2, 7, 2, 5, 6, 9, 3, 1, 1, 8, 3, 7, 4, 5, 2, 5, 8, 0, 9, 0, 7, 8, 1, 5, 3, 8, 4, 2, 2, 0, 4, 8, 9, 3, 5, 3, 8, 3, 1, 0, 6, 1, 1, 4, 5, 5, 5, 2, 8, 9, 0, 2, 7, 9, 6, 5, 4, 4, 7, 9, 5, 1, 0, 7, 2, 1, 0, 2, 2, 9, 8, 1, 7, 7, 5, 7, 1, 6, 1, 1, 3, 8, 8, 8, 9, 5, 8, 9, 3, 1, 9, 6, 2, 7, 3, 6, 4, 6, 9, 6, 9, 1, 3, 9, 5, 8, 2, 8, 2, 1, 1, 6, 4, 0, 5, 0, 5, 2, 7, 9, 4, 5, 0, 2, 3, 3, 9, 1, 9, 1, 2, 7, 1, 3, 3, 6, 9, 1, 7, 7, 1, 9, 5, 8, 8, 9, 9, 5, 9, 8, 5, 0, 2, 6, 9, 2, 2, 4, 0, 8, 4, 8, 1, 5, 7, 2, 4, 9, 5, 2, 2, 9, 4, 4, 5, 4, 2, 5, 6, 5, 9, 7, 2, 6, 8, 6, 5, 0, 8, 0, 2, 9, 9, 3, 8, 0, 6, 6, 0, 7, 9, 8, 0, 3, 0, 9, 6, 0, 4, 7, 1, 5, 1, 8, 4, 3, 9, 5, 5, 5, 3, 1, 2, 4, 0, 2, 5, 2, 6, 6, 8, 4, 6, 6, 1, 9, 4, 1, 7, 0, 1, 0, 5, 0, 2, 9, 4, 5, 0, 3, 3, 7, 2, 9, 0, 1, 4, 4, 9, 9, 0, 7, 2, 6, 7, 1, 5, 3, 7, 3, 6, 8, 6, 9, 8, 5, 9, 1, 3, 4, 0, 2, 5, 6, 3, 5, 9, 5, 8, 5, 7, 2, 9, 5, 6, 3, 8, 2, 1, 8, 3, 5, 8, 4, 3, 1, 0, 4, 2, 1, 5, 9, 9, 3, 8, 0, 6, 0, 2, 3, 7, 1, 4, 3, 9, 1, 5, 2, 2, 7, 9, 3, 1, 5, 5, 0, 1, 4, 8, 8, 5, 2, 0, 7, 0, 4, 1, 4, 4, 8, 9, 2, 3, 3, 4, 2, 0, 0, 7, 3, 3, 5, 6, 4, 2, 7, 8, 9, 1, 0, 1, 3, 6, 4, 8, 0, 6, 0, 9, 1, 6, 3, 1, 1, 1, 3, 0, 2, 7, 9, 1, 3, 7, 5, 7, 1, 6, 6, 9, 8, 1, 4, 4, 1, 1, 4, 1, 1, 2, 3, 1, 3, 4, 3, 9, 8, 5, 5, 3, 0, 7, 5, 4, 6, 3, 6, 9, 4, 8, 7, 5, 0, 3, 7, 2, 0, 0, 4, 0, 3, 8, 2, 1, 1, 2, 2, 2, 2, 1, 1, 0, 6, 1, 3, 1, 8, 9, 2, 2, 1, 1, 9, 3, 4, 3, 4, 2, 4, 5, 7, 1, 7, 7, 7, 8, 1, 3, 5, 2, 1, 6, 2, 7, 8, 4, 7, 3, 5, 9, 8, 8, 5, 1, 0, 6, 3, 0, 9, 6, 2, 0, 8, 7, 1, 8, 6, 9, 8, 6, 2, 7, 0, 0, 0, 0, 3, 5, 8, 3, 8, 2, 8, 4, 0, 8, 3, 7, 1, 0, 3, 0, 5, 0, 5, 1, 7, 2, 0, 1, 3, 9, 1, 6, 1, 6, 1, 2, 3, 7, 0, 9, 5, 3, 2, 0, 1, 7, 9, 7, 1, 9, 2, 1, 1, 4, 3, 6, 0, 2, 0, 0, 9, 0, 8, 9, 2, 5, 1, 2, 0, 7, 8, 7, 5, 3, 3, 3, 6, 3, 9, 5, 2, 8, 7, 7, 9, 3, 7, 0, 7, 1, 2, 3, 1, 1, 3, 2, 8, 5, 7, 7, 0, 8, 1, 5, 2, 6, 2, 5, 6, 5, 3, 9, 8, 0, 3, 0, 0, 2, 9, 7, 1, 3, 9, 3, 2, 6, 3, 8, 8, 6, 3, 2, 0, 9, 1, 5, 3, 7, 9, 9, 9, 8, 5, 9, 9, 6, 8, 8, 8, 8, 1, 0, 1, 8, 8, 6, 5, 9, 0, 6, 1, 5, 6, 3, 6, 5, 6, 5, 3, 3, 3, 3, 9, 9, 4, 6, 3, 3, 5, 6, 0, 8, 5, 7, 9, 4, 2, 5, 5, 1, 8, 9, 0, 4, 9, 3, 3, 5, 3, 3, 2, 7, 7, 3, 4, 0, 5, 3, 6, 1, 1, 5, 9, 1, 3, 9, 7, 8, 8, 3, 0, 0, 7, 8, 3, 0, 3, 2, 4, 8, 7, 3, 7, 1, 8, 7, 3, 5, 4, 4, 5, 8, 6, 0, 1, 3, 3, 3, 2, 8, 9, 8, 3, 3, 8, 1, 8, 1, 5, 2, 0, 5, 8, 3, 8, 6, 3, 8, 6, 3, 5, 9, 7, 8, 5, 3, 5, 1, 1, 2, 9, 2, 8, 5, 5, 8, 7, 2, 3, 8, 0, 3, 1, 3, 3, 3, 5, 3, 0, 9, 3, 2, 4, 2, 4, 3, 8, 9, 3, 3, 6, 3, 3, 5, 7, 7, 2, 4, 9, 7, 8, 5, 7, 7, 8, 5, 4, 9, 1, 6, 3, 3, 3, 3, 8, 5, 6, 1, 3, 7, 9, 3, 1, 5, 7, 9, 0, 3, 7, 4, 9, 1, 6, 0, 6, 7, 8, 3, 5, 9, 6, 1, 4, 6, 4, 6, 1, 8, 8, 4, 4, 7, 8, 5, 8, 9, 4, 3, 2, 3, 8, 3, 0, 1, 1, 1, 1, 6, 8, 7, 1, 3, 2, 2, 5, 9, 5, 0, 6, 2, 3, 9, 8, 3, 8, 5, 8, 2, 9, 6, 0, 3, 1, 8, 2, 6, 2, 2, 6, 5, 2, 9, 8, 5, 4, 9, 8, 5, 4, 9, 9, 3, 7, 1, 8, 5, 8, 6, 7, 5, 1, 3, 0, 3, 9, 8, 0, 6, 1, 2, 1, 7, 4, 5, 9, 8, 7, 3, 8, 6, 1, 2, 3, 6, 5, 8, 0, 2, 7, 4, 9, 4, 5, 5, 4, 2, 2, 1, 0, 2, 0, 4, 2, 8, 1, 5, 7, 9, 2, 0, 1, 0, 4, 1, 9, 4, 8, 1, 1, 1, 5, 9, 8, 1, 6, 7, 2, 9, 9, 7, 8, 8, 1, 9, 7, 8, 8, 1, 6, 6, 3, 3, 3, 3, 9, 8, 8, 1, 6, 6, 7, 1, 0, 7, 5, 4, 1, 3, 0, 6, 6, 0, 6, 7, 1, 1, 9, 6, 4, 0, 5, 4, 3, 2, 1, 7, 8, 6, 1, 1, 7, 7, 8, 7, 3, 3, 7, 0, 2, 4, 9, 0, 6, 5, 1, 2, 8, 6, 8, 0, 9, 3, 7, 6, 3, 0, 6, 0, 1, 3, 1, 1, 5, 3, 4, 3, 3, 8, 1, 3, 6, 1, 9, 8, 6, 2, 7, 4, 3, 8, 9, 2, 4, 3, 7, 3, 1, 4, 1, 7, 5, 3, 7, 7, 7, 2, 2, 8, 2, 5, 6, 6, 4, 0, 7, 1, 7, 6, 0, 0, 9, 7, 4, 1, 2, 5, 2, 8, 8, 4, 8, 7, 3, 3, 4, 7, 2, 3, 1, 3, 3, 8, 4, 3, 3, 9, 3, 7, 1, 1, 7, 8, 5, 1, 8, 3, 0, 5, 7, 2, 7, 9, 6, 8, 6, 8, 8, 5, 9, 0, 4, 8, 5, 2, 5, 5, 8, 0, 3, 8, 3, 5, 2, 4, 8, 4, 4, 1, 3, 4, 2, 2, 8, 7, 2, 0, 6, 7, 7, 3, 8, 2, 0, 3, 5, 3, 9, 1, 7, 2, 3, 3, 7, 4, 0, 2, 0, 9, 5, 1, 5, 3, 2, 6, 8, 9, 3, 3, 4, 3, 5, 2, 3, 9, 7, 8, 0, 8, 9, 8, 2, 5, 7, 2, 0, 3, 6, 1, 2, 5, 3, 5, 0, 5, 7, 4, 1, 5, 2, 4, 8, 3, 7, 3, 5, 0, 4, 6, 7, 3, 0, 9, 9, 6, 1, 0, 4, 6, 2, 2, 9, 3, 6, 6, 3, 3, 7, 0, 1, 9, 1, 7, 3, 5, 0, 2, 7, 3, 7, 3, 8, 8, 2, 5, 0, 9, 4, 6, 3, 8, 7, 4, 1, 8, 1, 3, 2, 6, 8, 5, 2, 6, 4, 3, 9, 0, 0, 7, 2, 8, 4, 0, 0, 6, 4, 2, 7, 2, 4, 9, 7, 1, 8, 7, 3, 5, 9, 7, 5, 2, 8, 9, 9, 8, 9, 1, 6, 3, 1, 7, 3, 7, 4, 8, 4, 8, 1, 8, 6, 0, 0, 8, 2, 2, 2, 2, 7, 6, 0, 5, 1, 4, 1, 9, 0, 1, 8, 3, 8, 4, 9, 0, 0, 7, 7, 6, 8, 9, 2, 2, 0, 4, 9, 2, 9, 3, 9, 2, 3, 7, 0, 8, 7, 1, 3, 5, 0, 2, 4, 1, 1, 9, 4, 3, 7, 9, 8, 3, 9, 4, 1, 2, 5, 4, 1, 2, 0, 5, 6, 0, 4, 3, 2, 8, 8, 0, 6, 3, 5, 2, 8, 9, 1, 6, 5, 9, 4, 2, 5, 6, 0, 6, 2, 2, 4, 1, 0, 5, 9, 8, 7, 3, 2, 9, 3, 8, 1, 4, 3, 7, 5, 6, 2, 0, 2, 8, 6, 1, 7, 7, 8, 1, 0, 8, 9, 7, 0, 3, 8, 0, 5, 9, 5, 8, 4, 2, 0, 9, 2, 2, 6, 7, 9, 4, 3, 5, 3, 1, 0, 2, 0, 0, 4, 9, 3, 3, 8, 0, 5, 8, 6, 4, 8, 5, 3, 9, 7, 9, 7, 9, 2, 1, 1, 8, 1, 2, 3, 9, 4, 4, 0, 6, 2, 4, 1, 5, 7, 2, 8, 5, 1, 0, 3, 3, 3, 2, 7, 6, 3, 2, 5, 9, 0, 5, 9, 9, 8, 7, 7, 4, 8, 6, 8, 2, 3, 1, 0, 4, 1, 1, 8, 4, 9, 4, 4, 5, 3, 9, 3, 0, 1, 8, 8, 4, 4, 8, 3, 3, 9, 5, 7, 6, 8, 5, 4, 3, 3, 3, 2, 0, 9, 5, 1, 5, 0, 6, 0, 4, 0, 2, 5, 6, 3, 8, 9, 3, 6, 8, 2, 5, 4, 6, 7, 2, 8, 9, 2, 0, 4, 9, 8, 8, 9, 1, 1, 5, 0, 0, 8, 4, 1, 4, 2, 2, 4, 3, 5, 2, 0, 6, 6, 0, 1, 3, 9, 8, 3, 7, 8, 8, 4, 8, 1, 0, 1, 7, 1, 6, 2, 9, 5, 3, 0, 3, 9, 8, 2, 7, 9, 6, 3, 3, 9, 3, 2, 4, 7, 1, 8, 2, 4, 9, 2, 9, 8, 8, 6, 7, 3, 7, 1, 6, 9, 0, 9, 5, 6, 2, 8, 5, 8, 0, 5, 9, 7, 5, 5, 8, 3, 3, 1, 8, 4, 7, 0, 9, 0, 0, 2, 2, 8, 7, 3, 7, 8, 1, 0, 2, 9, 7, 8, 7, 9, 3, 5, 4, 8, 7, 7, 9, 5, 8, 2, 1, 9, 3, 5, 1, 1, 5, 4, 6, 7, 3, 3, 4, 5, 9, 7, 6, 7, 3, 4, 4, 5, 9, 4, 5, 1, 9, 6, 0, 5, 6, 7, 4, 7, 9, 0, 7, 0, 5, 5, 3, 1, 1, 3, 6, 8, 2, 9, 3, 8, 2, 8, 3, 1, 8, 5, 0, 6, 0, 9, 2, 6, 0, 8, 9, 3, 5, 6, 2, 9, 1, 8, 9, 8, 7, 1, 7, 5, 2, 4, 9, 7, 3, 5, 9, 0, 4, 5, 2, 1, 3, 1, 7, 9, 0, 4, 5, 7, 2, 6, 8, 7, 6, 9, 6, 7, 3, 8, 3, 6, 6, 9, 5, 7, 8, 0, 3, 0, 7, 3, 8, 2, 5, 9, 5, 4, 2, 6, 4, 1, 2, 7, 4, 5, 1, 3, 3, 5, 1, 3, 7, 4, 8, 4, 4, 2, 7, 7, 5, 4, 5, 0, 6, 8, 2, 3, 6, 1, 6, 1, 7, 0, 3, 4, 0, 8, 4, 5, 8, 7, 7, 0, 9, 7, 8, 0, 8, 2, 8, 5, 7, 7, 2, 2, 0, 0, 9, 7, 2, 1, 6, 6, 8, 3, 9, 0, 9, 0, 1, 2, 3, 0, 9, 6, 6, 4, 6, 3, 2, 8, 8, 7, 1, 4, 0, 5, 2, 0, 9, 9, 1, 9, 1, 2, 4, 5, 4, 2, 8, 3, 0, 9, 6, 6, 8, 0, 6, 9, 4, 6, 9, 0, 5, 4, 9, 2, 0, 9, 6, 4, 3, 4, 6, 0, 9, 7, 7, 4, 6, 5, 0, 1, 9, 8, 3, 7, 9, 0, 9, 7, 8, 4, 7, 6, 8, 5, 4, 5, 3, 0, 3, 2, 1, 7, 5, 9, 3, 7, 5, 7, 1, 5, 0, 1, 1, 1, 7, 7, 5, 1, 9, 7, 8, 5, 0, 7, 9, 5, 8, 0, 0, 6, 1, 8, 7, 4, 6, 6, 3, 8, 1, 8, 5, 6, 1, 9, 2, 2, 1, 2, 9, 1, 5, 7, 2, 0, 1, 7, 6, 5, 2, 2, 5, 3, 0, 0, 0, 1, 7, 3, 3, 3, 8, 7, 5, 6, 7, 8, 8, 3, 9, 7, 5, 5, 1, 1, 0, 5, 3, 9, 4, 8, 8, 7, 7, 9, 9, 4, 3, 6, 2, 2, 8, 2, 7, 6, 7, 2, 2, 1, 2, 9, 4, 2, 9, 6, 1, 0, 1, 8, 7, 9, 0, 4, 7, 1, 3, 6, 7, 7, 1, 9, 7, 4, 5, 8, 1, 5, 7, 9, 9, 8, 6, 5, 3, 7, 0, 8, 9, 8, 2, 3, 7, 2, 9, 7, 3, 8, 8, 3, 6, 1, 3, 5, 9, 1, 9, 3, 1, 0, 3, 0, 2, 0, 2, 3, 1, 5, 7, 3, 9, 5, 6, 3, 6, 1, 2, 4, 2, 4, 7, 9, 4, 4, 0, 9, 3, 9, 4, 3, 3, 2, 2, 5, 2, 2, 8, 8, 1, 0, 1, 3, 0, 6, 9, 2, 5, 2, 9, 1, 5, 7, 1, 4, 0, 1, 5, 0, 8, 1, 8, 5, 8, 1, 8, 1, 8, 2, 1, 1, 0, 5, 1, 4, 0, 2, 1, 2, 0, 2, 9, 5, 1, 2, 2, 7, 8, 7, 2, 5, 3, 6, 3, 8, 4, 1, 2, 9, 8, 0, 2, 2, 4, 6, 8, 6, 9, 7, 5, 1, 4, 3, 0, 6, 3, 6, 0, 1, 1, 8, 9, 7, 2, 1, 0, 3, 4, 9, 0, 2, 2, 0, 7, 1, 1, 3, 1, 8, 4, 5, 2, 8, 0, 3, 3, 2, 8, 4, 4, 8, 9, 9, 8, 1, 0, 6, 0, 1, 1, 1, 8, 1, 7, 3, 0, 7, 8, 2, 1, 2, 3, 4, 6, 0, 5, 2, 0, 4, 4, 9, 5, 8, 3, 0, 8, 7, 4, 1, 8, 3, 9, 5, 7, 1, 7, 3, 7, 7, 0, 3, 8, 3, 3, 0, 5, 7, 0, 8, 2, 9, 9, 3, 0, 3, 2, 0, 4, 2, 6, 4, 5, 3, 2, 9, 4, 0, 1, 7, 5, 5, 4, 3, 0, 4, 6, 1, 7, 3, 8, 0, 8, 4, 7, 0, 3, 3, 3, 8, 3, 5, 4, 7]\n"
          ]
        }
      ]
    },
    {
      "cell_type": "code",
      "source": [
        "from sklearn.metrics import classification_report\n",
        "classification_report(Y_test,Y_pred_classes)"
      ],
      "metadata": {
        "colab": {
          "base_uri": "https://localhost:8080/",
          "height": 105
        },
        "id": "45_aFmYjG97W",
        "outputId": "cb54ece7-6483-4897-8138-0edf7c6be3cf"
      },
      "execution_count": 49,
      "outputs": [
        {
          "output_type": "execute_result",
          "data": {
            "text/plain": [
              "'              precision    recall  f1-score   support\\n\\n           0       0.75      0.71      0.73      1000\\n           1       0.78      0.82      0.80      1000\\n           2       0.58      0.62      0.60      1000\\n           3       0.47      0.58      0.52      1000\\n           4       0.69      0.61      0.65      1000\\n           5       0.60      0.61      0.61      1000\\n           6       0.86      0.66      0.75      1000\\n           7       0.77      0.75      0.76      1000\\n           8       0.76      0.85      0.80      1000\\n           9       0.78      0.75      0.77      1000\\n\\n    accuracy                           0.70     10000\\n   macro avg       0.71      0.70      0.70     10000\\nweighted avg       0.71      0.70      0.70     10000\\n'"
            ],
            "application/vnd.google.colaboratory.intrinsic+json": {
              "type": "string"
            }
          },
          "metadata": {},
          "execution_count": 49
        }
      ]
    },
    {
      "cell_type": "markdown",
      "source": [
        "So, by using CNN we are getting an accuracy of 79.5% on training data and 69.60% for test data."
      ],
      "metadata": {
        "id": "dqLBKaBfHR9Z"
      }
    },
    {
      "cell_type": "markdown",
      "source": [
        "#Performing Predictions using CNNs"
      ],
      "metadata": {
        "id": "taZ81_h5HvZI"
      }
    },
    {
      "cell_type": "code",
      "source": [
        "#checking the predictions of the model for some random test data\n",
        "classes = ['airplane','automobile','bird','cat','deer','dog','frog','horse','ship','truck']\n",
        "print('Actual value: ',classes[Y_test[1]])\n",
        "print('Predicted value: ',classes[Y_pred_classes[1]])"
      ],
      "metadata": {
        "colab": {
          "base_uri": "https://localhost:8080/"
        },
        "id": "UkbvzVuwH1HW",
        "outputId": "3e35398a-d261-4116-e724-3983ba8571b4"
      },
      "execution_count": 54,
      "outputs": [
        {
          "output_type": "stream",
          "name": "stdout",
          "text": [
            "Actual value:  ship\n",
            "Predicted value:  ship\n"
          ]
        }
      ]
    },
    {
      "cell_type": "code",
      "source": [],
      "metadata": {
        "id": "HiqwG0iIH4x1"
      },
      "execution_count": null,
      "outputs": []
    }
  ]
}